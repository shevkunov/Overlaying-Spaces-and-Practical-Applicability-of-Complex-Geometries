{
 "cells": [
  {
   "cell_type": "code",
   "execution_count": 1,
   "metadata": {},
   "outputs": [],
   "source": [
    "import sys\n",
    "from importlib import reload \n",
    "sys.path.append('./lib')"
   ]
  },
  {
   "cell_type": "code",
   "execution_count": 2,
   "metadata": {},
   "outputs": [],
   "source": [
    "import utils  # expand_to_hyperboloid\n",
    "utils = reload(utils)\n",
    "\n",
    "import distances  # Distances, ProductDistances\n",
    "distances = reload(distances)\n",
    "from distances import Distances, ProductDistances\n",
    "\n",
    "import dssm  # DSSM_V2\n",
    "dssm = reload(dssm)\n",
    "\n",
    "import layers  # SphericalExponentialMapLayer, HyperbolicalExponentialMapLayer\n",
    "layers = reload(layers)"
   ]
  },
  {
   "cell_type": "markdown",
   "metadata": {},
   "source": [
    "__________________________"
   ]
  },
  {
   "cell_type": "code",
   "execution_count": 3,
   "metadata": {},
   "outputs": [],
   "source": [
    "import networkx as nx\n",
    "import math\n",
    "import numpy as np\n",
    "import matplotlib.pyplot as plt\n",
    "import tqdm\n",
    "import os\n",
    "import collections\n",
    "\n",
    "from collections import defaultdict\n",
    "from IPython.display import clear_output\n",
    "\n",
    "import copy\n",
    "import numpy as np\n",
    "import tensorflow as tf\n",
    "import pandas as pd\n",
    "\n",
    "import scipy.stats as sps\n",
    "import pickle\n",
    "\n",
    "assert int(tf.__version__.split(\".\")[0]) >= 2"
   ]
  },
  {
   "cell_type": "markdown",
   "metadata": {},
   "source": [
    "____________________\n",
    "# Load data"
   ]
  },
  {
   "cell_type": "code",
   "execution_count": 4,
   "metadata": {},
   "outputs": [
    {
     "data": {
      "text/html": [
       "<div>\n",
       "<style scoped>\n",
       "    .dataframe tbody tr th:only-of-type {\n",
       "        vertical-align: middle;\n",
       "    }\n",
       "\n",
       "    .dataframe tbody tr th {\n",
       "        vertical-align: top;\n",
       "    }\n",
       "\n",
       "    .dataframe thead th {\n",
       "        text-align: right;\n",
       "    }\n",
       "</style>\n",
       "<table border=\"1\" class=\"dataframe\">\n",
       "  <thead>\n",
       "    <tr style=\"text-align: right;\">\n",
       "      <th></th>\n",
       "      <th>0</th>\n",
       "      <th>1</th>\n",
       "      <th>rnd</th>\n",
       "    </tr>\n",
       "  </thead>\n",
       "  <tbody>\n",
       "    <tr>\n",
       "      <th>144284</th>\n",
       "      <td>u.2</td>\n",
       "      <td>/wiki/U2</td>\n",
       "      <td>2.456372e-07</td>\n",
       "    </tr>\n",
       "    <tr>\n",
       "      <th>170822</th>\n",
       "      <td>Kris Wallace</td>\n",
       "      <td>/wiki/Chris_Wallace</td>\n",
       "      <td>1.309875e-06</td>\n",
       "    </tr>\n",
       "    <tr>\n",
       "      <th>61024</th>\n",
       "      <td>1980:     Mitsubishi produces one million cars...</td>\n",
       "      <td>/wiki/Mitsubishi_Motors</td>\n",
       "      <td>4.676557e-06</td>\n",
       "    </tr>\n",
       "    <tr>\n",
       "      <th>201047</th>\n",
       "      <td>code napoleon</td>\n",
       "      <td>/wiki/Napoleonic_Code</td>\n",
       "      <td>1.120069e-05</td>\n",
       "    </tr>\n",
       "    <tr>\n",
       "      <th>305336</th>\n",
       "      <td>somersault!</td>\n",
       "      <td>/wiki/Somersault</td>\n",
       "      <td>1.305695e-05</td>\n",
       "    </tr>\n",
       "  </tbody>\n",
       "</table>\n",
       "</div>"
      ],
      "text/plain": [
       "                                                        0  \\\n",
       "144284                                                u.2   \n",
       "170822                                       Kris Wallace   \n",
       "61024   1980:     Mitsubishi produces one million cars...   \n",
       "201047                                      code napoleon   \n",
       "305336                                        somersault!   \n",
       "\n",
       "                              1           rnd  \n",
       "144284                 /wiki/U2  2.456372e-07  \n",
       "170822      /wiki/Chris_Wallace  1.309875e-06  \n",
       "61024   /wiki/Mitsubishi_Motors  4.676557e-06  \n",
       "201047    /wiki/Napoleonic_Code  1.120069e-05  \n",
       "305336         /wiki/Somersault  1.305695e-05  "
      ]
     },
     "execution_count": 4,
     "metadata": {},
     "output_type": "execute_result"
    }
   ],
   "source": [
    "train = pd.read_csv(\"./true_dssm/req_ans_learn.tsv\", sep=\"\\t\", header=None)\n",
    "np.random.seed(17)\n",
    "train[\"rnd\"] = np.random.rand(len(train))\n",
    "train = train.sort_values(\"rnd\")\n",
    "train.head()"
   ]
  },
  {
   "cell_type": "code",
   "execution_count": 5,
   "metadata": {},
   "outputs": [],
   "source": [
    "def link_prepare(key):\n",
    "    return key.split(\"/wiki/\")[1].replace(\"_\", \" \")\n",
    "\n",
    "def link_unprepare(key):\n",
    "    return \"/wiki/\" + key.replace(\" \", \"_\")"
   ]
  },
  {
   "cell_type": "code",
   "execution_count": 6,
   "metadata": {},
   "outputs": [
    {
     "data": {
      "application/vnd.jupyter.widget-view+json": {
       "model_id": "888072fd0ddd44be940c69098f9dd499",
       "version_major": 2,
       "version_minor": 0
      },
      "text/plain": [
       "HBox(children=(IntProgress(value=0, max=491044), HTML(value='')))"
      ]
     },
     "metadata": {},
     "output_type": "display_data"
    },
    {
     "name": "stdout",
     "output_type": "stream",
     "text": [
      "\n"
     ]
    }
   ],
   "source": [
    "links = []\n",
    "for i in tqdm.tqdm_notebook(range(len(train))):\n",
    "    links.append(str(link_prepare(train.iloc[i][1])))\n",
    "    assert link_unprepare(links[-1]) == train.iloc[i][1]\n",
    "\n",
    "train[1] = np.array(links, dtype=str)"
   ]
  },
  {
   "cell_type": "markdown",
   "metadata": {},
   "source": [
    "_________________\n",
    "# Canonical"
   ]
  },
  {
   "cell_type": "code",
   "execution_count": 7,
   "metadata": {},
   "outputs": [],
   "source": [
    "d = dssm.DSSM_V2(hid_size=512, emb_size=256)\n",
    "dist = ProductDistances([\n",
    "    (256, Distances(\"inverted_dot\")),  # like regular dot, because we have another invertion in loss function\n",
    "])"
   ]
  },
  {
   "cell_type": "code",
   "execution_count": 8,
   "metadata": {},
   "outputs": [
    {
     "name": "stderr",
     "output_type": "stream",
     "text": [
      "100%|██████████| 441939/441939 [00:01<00:00, 334519.34it/s]\n",
      "100%|██████████| 441939/441939 [00:00<00:00, 686451.05it/s]\n"
     ]
    }
   ],
   "source": [
    "trainer = dssm.trainer.DssmTrainerWithCustomTokenizerAndHards(model=d, qs=train, hard_every=100,\n",
    "    tokenizer_cfg={\"total_tokens\":30000, \"triplets_weight\":20, \"pairs_weight\":2, \"words_weight\":8})"
   ]
  },
  {
   "cell_type": "code",
   "execution_count": 9,
   "metadata": {
    "scrolled": false
   },
   "outputs": [
    {
     "data": {
      "image/png": "[encoded data removed]",
      "text/plain": [
       "<Figure size 1008x504 with 2 Axes>"
      ]
     },
     "metadata": {
      "needs_background": "light"
     },
     "output_type": "display_data"
    },
    {
     "name": "stdout",
     "output_type": "stream",
     "text": [
      "val_acc[-1] = 0.659\n",
      "\n"
     ]
    }
   ],
   "source": [
    "trainer.fit(d, dist, redraw_interval=30, iters=1000)"
   ]
  },
  {
   "cell_type": "code",
   "execution_count": 15,
   "metadata": {},
   "outputs": [],
   "source": [
    "with open(\"dssm-exp-256-inverted_dot-2020-04-03.pickle\", \"wb\") as f:\n",
    "    pickle.dump(trainer.best_model_weights, f)"
   ]
  },
  {
   "cell_type": "code",
   "execution_count": 16,
   "metadata": {},
   "outputs": [],
   "source": [
    "for w, b_w in zip(d.get_weights(), trainer.best_model_weights):\n",
    "    w.assign(b_w)"
   ]
  },
  {
   "cell_type": "code",
   "execution_count": 17,
   "metadata": {},
   "outputs": [
    {
     "data": {
      "application/vnd.jupyter.widget-view+json": {
       "model_id": "6f678531e1294fc59bfddf172e297d5b",
       "version_major": 2,
       "version_minor": 0
      },
      "text/plain": [
       "HBox(children=(IntProgress(value=0, max=1000), HTML(value='')))"
      ]
     },
     "metadata": {},
     "output_type": "display_data"
    },
    {
     "name": "stdout",
     "output_type": "stream",
     "text": [
      "\n"
     ]
    },
    {
     "data": {
      "text/plain": [
       "0.666"
      ]
     },
     "execution_count": 17,
     "metadata": {},
     "output_type": "execute_result"
    }
   ],
   "source": [
    "trainer.get_val_acc(d, dist)"
   ]
  },
  {
   "cell_type": "code",
   "execution_count": 18,
   "metadata": {},
   "outputs": [
    {
     "data": {
      "application/vnd.jupyter.widget-view+json": {
       "model_id": "d6c7b5c8cda8400abf1b11d58cd31618",
       "version_major": 2,
       "version_minor": 0
      },
      "text/plain": [
       "HBox(children=(IntProgress(value=0, max=49105), HTML(value='')))"
      ]
     },
     "metadata": {},
     "output_type": "display_data"
    },
    {
     "name": "stdout",
     "output_type": "stream",
     "text": [
      "\n"
     ]
    },
    {
     "data": {
      "text/plain": [
       "0.6759596782405051"
      ]
     },
     "execution_count": 18,
     "metadata": {},
     "output_type": "execute_result"
    }
   ],
   "source": [
    "trainer.get_test_acc(d, dist)"
   ]
  },
  {
   "cell_type": "markdown",
   "metadata": {},
   "source": [
    "_______________________"
   ]
  },
  {
   "cell_type": "code",
   "execution_count": 8,
   "metadata": {},
   "outputs": [],
   "source": [
    "def do_stuff(dist, name, date=\"2020-05-01\"):\n",
    "    d = dssm.DSSM_V2(hid_size=512, emb_size=256)\n",
    "    trainer = dssm.trainer.DssmTrainerWithCustomTokenizerAndHards(model=d, qs=train, hard_every=9999,\n",
    "        tokenizer_cfg={\"total_tokens\":30000, \"triplets_weight\":20, \"pairs_weight\":2, \"words_weight\":8})\n",
    "    trainer.fit(d, dist, redraw_interval=30, iters=1000)\n",
    "    with open(f\"dssm-exp-256-{name}-nohn-{date}.pickle\", \"wb\") as f:\n",
    "        pickle.dump(trainer.best_model_weights, f)\n",
    "    with open(f\"dssm-exp-256-{name}-nohn-{date}-dist.pickle\", \"wb\") as f:\n",
    "        pickle.dump(trainer.best_dist_weights, f)\n",
    "    for w, b_w in zip(d.get_weights(), trainer.best_model_weights):\n",
    "        w.assign(b_w)\n",
    "    for w, b_w in zip(dist.get_weights(), trainer.best_dist_weights):\n",
    "        w.assign(b_w)\n",
    "    return d, trainer"
   ]
  },
  {
   "cell_type": "markdown",
   "metadata": {},
   "source": [
    "__________________"
   ]
  },
  {
   "cell_type": "markdown",
   "metadata": {},
   "source": [
    "## Other Big Models"
   ]
  },
  {
   "cell_type": "code",
   "execution_count": 8,
   "metadata": {},
   "outputs": [
    {
     "data": {
      "image/png": "[encoded data removed]",
      "text/plain": [
       "<Figure size 1008x504 with 2 Axes>"
      ]
     },
     "metadata": {
      "needs_background": "light"
     },
     "output_type": "display_data"
    },
    {
     "name": "stdout",
     "output_type": "stream",
     "text": [
      "val_acc[-1] = 0.625\n",
      "\n"
     ]
    }
   ],
   "source": [
    "dist = ProductDistances([\n",
    "    (256, Distances(\"inverted_dot\")),\n",
    "])\n",
    "d, trainer = do_stuff(dist, \"inverted_dot\")"
   ]
  },
  {
   "cell_type": "code",
   "execution_count": 9,
   "metadata": {},
   "outputs": [
    {
     "data": {
      "application/vnd.jupyter.widget-view+json": {
       "model_id": "b537b6af8b494bfc9fc684ac4954bd63",
       "version_major": 2,
       "version_minor": 0
      },
      "text/plain": [
       "HBox(children=(IntProgress(value=0, max=1000), HTML(value='')))"
      ]
     },
     "metadata": {},
     "output_type": "display_data"
    },
    {
     "name": "stdout",
     "output_type": "stream",
     "text": [
      "\n"
     ]
    },
    {
     "data": {
      "text/plain": [
       "{'hits': 659, 'total': 1000, 'map100': 0.7220250950931734, 'acc': 0.659}"
      ]
     },
     "execution_count": 9,
     "metadata": {},
     "output_type": "execute_result"
    }
   ],
   "source": [
    "trainer.get_val_acc(d, dist, return_metrics=True)"
   ]
  },
  {
   "cell_type": "code",
   "execution_count": 10,
   "metadata": {},
   "outputs": [
    {
     "data": {
      "application/vnd.jupyter.widget-view+json": {
       "model_id": "8e1a607c62464a5e9e8baca55a73880e",
       "version_major": 2,
       "version_minor": 0
      },
      "text/plain": [
       "HBox(children=(IntProgress(value=0, max=49105), HTML(value='')))"
      ]
     },
     "metadata": {},
     "output_type": "display_data"
    },
    {
     "name": "stdout",
     "output_type": "stream",
     "text": [
      "\n"
     ]
    },
    {
     "data": {
      "text/plain": [
       "{'hits': 33069,\n",
       " 'total': 49105,\n",
       " 'map100': 0.7379768790394133,\n",
       " 'acc': 0.6734344771408207}"
      ]
     },
     "execution_count": 10,
     "metadata": {},
     "output_type": "execute_result"
    }
   ],
   "source": [
    "trainer.get_test_acc(d, dist, return_metrics=True)"
   ]
  },
  {
   "cell_type": "markdown",
   "metadata": {},
   "source": [
    "_______________________"
   ]
  },
  {
   "cell_type": "code",
   "execution_count": 11,
   "metadata": {},
   "outputs": [
    {
     "data": {
      "image/png": "[encoded data removed]",
      "text/plain": [
       "<Figure size 1008x504 with 2 Axes>"
      ]
     },
     "metadata": {
      "needs_background": "light"
     },
     "output_type": "display_data"
    },
    {
     "name": "stdout",
     "output_type": "stream",
     "text": [
      "val_acc[-1] = 0.513\n",
      "\n"
     ]
    }
   ],
   "source": [
    "dist = ProductDistances([\n",
    "    (256, Distances(\"spherical\")),\n",
    "])\n",
    "d, trainer = do_stuff(dist, \"spherical\")"
   ]
  },
  {
   "cell_type": "code",
   "execution_count": 12,
   "metadata": {},
   "outputs": [
    {
     "data": {
      "application/vnd.jupyter.widget-view+json": {
       "model_id": "d824fb7bedac4b42963d743813f1813c",
       "version_major": 2,
       "version_minor": 0
      },
      "text/plain": [
       "HBox(children=(IntProgress(value=0, max=1000), HTML(value='')))"
      ]
     },
     "metadata": {},
     "output_type": "display_data"
    },
    {
     "name": "stdout",
     "output_type": "stream",
     "text": [
      "\n"
     ]
    },
    {
     "data": {
      "text/plain": [
       "{'hits': 527, 'total': 1000, 'map100': 0.5723487556155057, 'acc': 0.527}"
      ]
     },
     "execution_count": 12,
     "metadata": {},
     "output_type": "execute_result"
    }
   ],
   "source": [
    "trainer.get_val_acc(d, dist, return_metrics=True)"
   ]
  },
  {
   "cell_type": "code",
   "execution_count": 13,
   "metadata": {},
   "outputs": [
    {
     "data": {
      "application/vnd.jupyter.widget-view+json": {
       "model_id": "d2ed209885dc49b2b93434bef954b15c",
       "version_major": 2,
       "version_minor": 0
      },
      "text/plain": [
       "HBox(children=(IntProgress(value=0, max=49105), HTML(value='')))"
      ]
     },
     "metadata": {},
     "output_type": "display_data"
    },
    {
     "name": "stdout",
     "output_type": "stream",
     "text": [
      "\n"
     ]
    },
    {
     "data": {
      "text/plain": [
       "{'hits': 26223,\n",
       " 'total': 49105,\n",
       " 'map100': 0.5884685960140836,\n",
       " 'acc': 0.5340189390082476}"
      ]
     },
     "execution_count": 13,
     "metadata": {},
     "output_type": "execute_result"
    }
   ],
   "source": [
    "trainer.get_test_acc(d, dist, return_metrics=True)"
   ]
  },
  {
   "cell_type": "markdown",
   "metadata": {},
   "source": [
    "________________________"
   ]
  },
  {
   "cell_type": "code",
   "execution_count": 14,
   "metadata": {},
   "outputs": [
    {
     "data": {
      "image/png": "[encoded data removed]",
      "text/plain": [
       "<Figure size 1008x504 with 2 Axes>"
      ]
     },
     "metadata": {
      "needs_background": "light"
     },
     "output_type": "display_data"
    },
    {
     "name": "stdout",
     "output_type": "stream",
     "text": [
      "val_acc[-1] = 0.655\n",
      "\n"
     ]
    }
   ],
   "source": [
    "dist = ProductDistances([\n",
    "    (256, Distances(\"euclidian\")),\n",
    "])\n",
    "d, trainer = do_stuff(dist, \"euclidian\")"
   ]
  },
  {
   "cell_type": "code",
   "execution_count": 15,
   "metadata": {},
   "outputs": [
    {
     "data": {
      "application/vnd.jupyter.widget-view+json": {
       "model_id": "f809fbb791594c99901af6c1a4b043dc",
       "version_major": 2,
       "version_minor": 0
      },
      "text/plain": [
       "HBox(children=(IntProgress(value=0, max=1000), HTML(value='')))"
      ]
     },
     "metadata": {},
     "output_type": "display_data"
    },
    {
     "name": "stdout",
     "output_type": "stream",
     "text": [
      "\n"
     ]
    },
    {
     "data": {
      "text/plain": [
       "{'hits': 655, 'total': 1000, 'map100': 0.7098521802911418, 'acc': 0.655}"
      ]
     },
     "execution_count": 15,
     "metadata": {},
     "output_type": "execute_result"
    }
   ],
   "source": [
    "trainer.get_val_acc(d, dist, return_metrics=True)"
   ]
  },
  {
   "cell_type": "code",
   "execution_count": 16,
   "metadata": {},
   "outputs": [
    {
     "data": {
      "application/vnd.jupyter.widget-view+json": {
       "model_id": "963be4df8c624cb8b6ba97535fdd3c64",
       "version_major": 2,
       "version_minor": 0
      },
      "text/plain": [
       "HBox(children=(IntProgress(value=0, max=49105), HTML(value='')))"
      ]
     },
     "metadata": {},
     "output_type": "display_data"
    },
    {
     "name": "stdout",
     "output_type": "stream",
     "text": [
      "\n"
     ]
    },
    {
     "data": {
      "text/plain": [
       "{'hits': 32166,\n",
       " 'total': 49105,\n",
       " 'map100': 0.7165001208587491,\n",
       " 'acc': 0.6550453110681194}"
      ]
     },
     "execution_count": 16,
     "metadata": {},
     "output_type": "execute_result"
    }
   ],
   "source": [
    "trainer.get_test_acc(d, dist, return_metrics=True)"
   ]
  },
  {
   "cell_type": "markdown",
   "metadata": {},
   "source": [
    "_____________________________________________________"
   ]
  },
  {
   "cell_type": "code",
   "execution_count": 9,
   "metadata": {},
   "outputs": [
    {
     "data": {
      "image/png": "[encoded data removed]",
      "text/plain": [
       "<Figure size 1008x504 with 2 Axes>"
      ]
     },
     "metadata": {
      "needs_background": "light"
     },
     "output_type": "display_data"
    },
    {
     "name": "stdout",
     "output_type": "stream",
     "text": [
      "val_acc[-1] = 0.354\n",
      "\n"
     ]
    }
   ],
   "source": [
    "dist = ProductDistances([\n",
    "    (256, Distances(\"expanded_hyp\")),\n",
    "])\n",
    "d, trainer = do_stuff(dist, \"expanded_hyp\")"
   ]
  },
  {
   "cell_type": "code",
   "execution_count": 10,
   "metadata": {},
   "outputs": [
    {
     "data": {
      "application/vnd.jupyter.widget-view+json": {
       "model_id": "69f19d8ea4284b2783ddcd19f9338eb5",
       "version_major": 2,
       "version_minor": 0
      },
      "text/plain": [
       "HBox(children=(IntProgress(value=0, max=1000), HTML(value='')))"
      ]
     },
     "metadata": {},
     "output_type": "display_data"
    },
    {
     "name": "stdout",
     "output_type": "stream",
     "text": [
      "\n"
     ]
    },
    {
     "data": {
      "text/plain": [
       "{'hits': 361, 'total': 1000, 'map100': 0.3973451463468101, 'acc': 0.361}"
      ]
     },
     "execution_count": 10,
     "metadata": {},
     "output_type": "execute_result"
    }
   ],
   "source": [
    "trainer.get_val_acc(d, dist, return_metrics=True)"
   ]
  },
  {
   "cell_type": "code",
   "execution_count": 11,
   "metadata": {},
   "outputs": [
    {
     "data": {
      "application/vnd.jupyter.widget-view+json": {
       "model_id": "6961da2de4484ede8444bdcd86aa6872",
       "version_major": 2,
       "version_minor": 0
      },
      "text/plain": [
       "HBox(children=(IntProgress(value=0, max=49105), HTML(value='')))"
      ]
     },
     "metadata": {},
     "output_type": "display_data"
    },
    {
     "name": "stdout",
     "output_type": "stream",
     "text": [
      "\n"
     ]
    },
    {
     "data": {
      "text/plain": [
       "{'hits': 18339,\n",
       " 'total': 49105,\n",
       " 'map100': 0.41185208312904986,\n",
       " 'acc': 0.3734650239283169}"
      ]
     },
     "execution_count": 11,
     "metadata": {},
     "output_type": "execute_result"
    }
   ],
   "source": [
    "trainer.get_test_acc(d, dist, return_metrics=True)"
   ]
  },
  {
   "cell_type": "markdown",
   "metadata": {},
   "source": [
    "___________________________________"
   ]
  },
  {
   "cell_type": "code",
   "execution_count": 13,
   "metadata": {},
   "outputs": [
    {
     "data": {
      "image/png": "[encoded data removed]",
      "text/plain": [
       "<Figure size 1008x504 with 2 Axes>"
      ]
     },
     "metadata": {
      "needs_background": "light"
     },
     "output_type": "display_data"
    },
    {
     "name": "stdout",
     "output_type": "stream",
     "text": [
      "val_acc[-1] = 0.579\n"
     ]
    }
   ],
   "source": [
    "dist = ProductDistances([\n",
    "    (256, Distances(\"triple_trainable_l1_corrected\")),\n",
    "])\n",
    "d, trainer = do_stuff(dist, \"triple_trainable_l1_corrected\")"
   ]
  },
  {
   "cell_type": "code",
   "execution_count": 14,
   "metadata": {},
   "outputs": [
    {
     "data": {
      "application/vnd.jupyter.widget-view+json": {
       "model_id": "3b4359001535482f9a73b5177b138020",
       "version_major": 2,
       "version_minor": 0
      },
      "text/plain": [
       "HBox(children=(IntProgress(value=0, max=1000), HTML(value='')))"
      ]
     },
     "metadata": {},
     "output_type": "display_data"
    },
    {
     "data": {
      "text/plain": [
       "{'hits': 579, 'total': 1000, 'map100': 0.6467018525279352, 'acc': 0.579}"
      ]
     },
     "execution_count": 14,
     "metadata": {},
     "output_type": "execute_result"
    }
   ],
   "source": [
    "trainer.get_val_acc(d, dist, return_metrics=True)"
   ]
  },
  {
   "cell_type": "code",
   "execution_count": 16,
   "metadata": {},
   "outputs": [
    {
     "data": {
      "application/vnd.jupyter.widget-view+json": {
       "model_id": "99f0ab466ded4b298460e160394defd8",
       "version_major": 2,
       "version_minor": 0
      },
      "text/plain": [
       "HBox(children=(IntProgress(value=0, max=49105), HTML(value='')))"
      ]
     },
     "metadata": {},
     "output_type": "display_data"
    },
    {
     "data": {
      "text/plain": [
       "{'hits': 29318,\n",
       " 'total': 49105,\n",
       " 'map100': 0.6621805901901104,\n",
       " 'acc': 0.5970471438753691}"
      ]
     },
     "execution_count": 16,
     "metadata": {},
     "output_type": "execute_result"
    }
   ],
   "source": [
    "v = trainer.get_test_acc(d, dist, return_metrics=True)\n",
    "v"
   ]
  },
  {
   "cell_type": "code",
   "execution_count": 19,
   "metadata": {},
   "outputs": [
    {
     "data": {
      "text/plain": [
       "<tf.Tensor: id=76699627, shape=(1, 9), dtype=float64, numpy=\n",
       "array([[0.20631648, 0.06224998, 0.07103721, 0.19574814, 0.06286912,\n",
       "        0.07100618, 0.19680566, 0.06279997, 0.07116726]])>"
      ]
     },
     "execution_count": 19,
     "metadata": {},
     "output_type": "execute_result"
    }
   ],
   "source": [
    "tf.nn.softmax(dist.get_weights())"
   ]
  },
  {
   "cell_type": "markdown",
   "metadata": {},
   "source": [
    "___________________________________"
   ]
  },
  {
   "cell_type": "code",
   "execution_count": 20,
   "metadata": {},
   "outputs": [
    {
     "data": {
      "image/png": "[encoded data removed]",
      "text/plain": [
       "<Figure size 1008x504 with 2 Axes>"
      ]
     },
     "metadata": {
      "needs_background": "light"
     },
     "output_type": "display_data"
    },
    {
     "name": "stdout",
     "output_type": "stream",
     "text": [
      "val_acc[-1] = 0.589\n"
     ]
    }
   ],
   "source": [
    "dist = ProductDistances([\n",
    "    (128, Distances(\"spherical\", scalable=True)),\n",
    "    (128, Distances(\"spherical\", scalable=True)),\n",
    "])\n",
    "d, trainer = do_stuff(dist, \"S_128xS_128\")"
   ]
  },
  {
   "cell_type": "code",
   "execution_count": 21,
   "metadata": {},
   "outputs": [
    {
     "data": {
      "application/vnd.jupyter.widget-view+json": {
       "model_id": "39ac8bd02c514893880133bb24a175ff",
       "version_major": 2,
       "version_minor": 0
      },
      "text/plain": [
       "HBox(children=(IntProgress(value=0, max=1000), HTML(value='')))"
      ]
     },
     "metadata": {},
     "output_type": "display_data"
    },
    {
     "data": {
      "text/plain": [
       "{'hits': 595, 'total': 1000, 'map100': 0.6513441221117158, 'acc': 0.595}"
      ]
     },
     "execution_count": 21,
     "metadata": {},
     "output_type": "execute_result"
    }
   ],
   "source": [
    "trainer.get_val_acc(d, dist, return_metrics=True)"
   ]
  },
  {
   "cell_type": "code",
   "execution_count": 22,
   "metadata": {},
   "outputs": [
    {
     "data": {
      "application/vnd.jupyter.widget-view+json": {
       "model_id": "8472a80d9b794f36a1f89beff82125db",
       "version_major": 2,
       "version_minor": 0
      },
      "text/plain": [
       "HBox(children=(IntProgress(value=0, max=49105), HTML(value='')))"
      ]
     },
     "metadata": {},
     "output_type": "display_data"
    },
    {
     "data": {
      "text/plain": [
       "{'hits': 29730,\n",
       " 'total': 49105,\n",
       " 'map100': 0.6618175354151091,\n",
       " 'acc': 0.6054373281743204}"
      ]
     },
     "execution_count": 22,
     "metadata": {},
     "output_type": "execute_result"
    }
   ],
   "source": [
    "trainer.get_test_acc(d, dist, return_metrics=True)"
   ]
  },
  {
   "cell_type": "markdown",
   "metadata": {},
   "source": [
    "___________________________________"
   ]
  },
  {
   "cell_type": "code",
   "execution_count": 23,
   "metadata": {},
   "outputs": [
    {
     "data": {
      "image/png": "[encoded data removed]",
      "text/plain": [
       "<Figure size 1008x504 with 2 Axes>"
      ]
     },
     "metadata": {
      "needs_background": "light"
     },
     "output_type": "display_data"
    },
    {
     "name": "stdout",
     "output_type": "stream",
     "text": [
      "val_acc[-1] = 0.474\n"
     ]
    }
   ],
   "source": [
    "dist = ProductDistances([\n",
    "    (128, Distances(\"expanded_hyp\", scalable=True)),\n",
    "    (128, Distances(\"expanded_hyp\", scalable=True)),\n",
    "])\n",
    "d, trainer = do_stuff(dist, \"H_128xH_128\")"
   ]
  },
  {
   "cell_type": "code",
   "execution_count": 24,
   "metadata": {},
   "outputs": [
    {
     "data": {
      "application/vnd.jupyter.widget-view+json": {
       "model_id": "7869c8f694904f44b6c459048d002641",
       "version_major": 2,
       "version_minor": 0
      },
      "text/plain": [
       "HBox(children=(IntProgress(value=0, max=1000), HTML(value='')))"
      ]
     },
     "metadata": {},
     "output_type": "display_data"
    },
    {
     "data": {
      "text/plain": [
       "{'hits': 481, 'total': 1000, 'map100': 0.5331987383855884, 'acc': 0.481}"
      ]
     },
     "execution_count": 24,
     "metadata": {},
     "output_type": "execute_result"
    }
   ],
   "source": [
    "trainer.get_val_acc(d, dist, return_metrics=True)"
   ]
  },
  {
   "cell_type": "code",
   "execution_count": 25,
   "metadata": {},
   "outputs": [
    {
     "data": {
      "application/vnd.jupyter.widget-view+json": {
       "model_id": "88bf497353874aaa89a6748cfb9f5dcb",
       "version_major": 2,
       "version_minor": 0
      },
      "text/plain": [
       "HBox(children=(IntProgress(value=0, max=49105), HTML(value='')))"
      ]
     },
     "metadata": {},
     "output_type": "display_data"
    },
    {
     "data": {
      "text/plain": [
       "{'hits': 24336,\n",
       " 'total': 49105,\n",
       " 'map100': 0.5467744651211288,\n",
       " 'acc': 0.4955910803380511}"
      ]
     },
     "execution_count": 25,
     "metadata": {},
     "output_type": "execute_result"
    }
   ],
   "source": [
    "trainer.get_test_acc(d, dist, return_metrics=True)"
   ]
  },
  {
   "cell_type": "markdown",
   "metadata": {},
   "source": [
    "___________________________________"
   ]
  },
  {
   "cell_type": "code",
   "execution_count": 32,
   "metadata": {},
   "outputs": [
    {
     "data": {
      "image/png": "[encoded data removed]",
      "text/plain": [
       "<Figure size 1008x504 with 2 Axes>"
      ]
     },
     "metadata": {
      "needs_background": "light"
     },
     "output_type": "display_data"
    },
    {
     "name": "stdout",
     "output_type": "stream",
     "text": [
      "val_acc[-1] = 0.434\n"
     ]
    }
   ],
   "source": [
    "dist = ProductDistances([\n",
    "    (128, Distances(\"expanded_hyp\", scalable=True)),\n",
    "    (128, Distances(\"spherical\", scalable=True)),\n",
    "])\n",
    "d, trainer = do_stuff(dist, \"H_128xS_128\")"
   ]
  },
  {
   "cell_type": "code",
   "execution_count": 33,
   "metadata": {},
   "outputs": [
    {
     "data": {
      "application/vnd.jupyter.widget-view+json": {
       "model_id": "744e0beceb0c4d82bce76afe1b29bcf5",
       "version_major": 2,
       "version_minor": 0
      },
      "text/plain": [
       "HBox(children=(IntProgress(value=0, max=1000), HTML(value='')))"
      ]
     },
     "metadata": {},
     "output_type": "display_data"
    },
    {
     "data": {
      "text/plain": [
       "{'hits': 439, 'total': 1000, 'map100': 0.48535875813854545, 'acc': 0.439}"
      ]
     },
     "execution_count": 33,
     "metadata": {},
     "output_type": "execute_result"
    }
   ],
   "source": [
    "trainer.get_val_acc(d, dist, return_metrics=True)"
   ]
  },
  {
   "cell_type": "code",
   "execution_count": 34,
   "metadata": {},
   "outputs": [
    {
     "data": {
      "application/vnd.jupyter.widget-view+json": {
       "model_id": "e4c52f5c2341444f8ab7a67e0a05575f",
       "version_major": 2,
       "version_minor": 0
      },
      "text/plain": [
       "HBox(children=(IntProgress(value=0, max=49105), HTML(value='')))"
      ]
     },
     "metadata": {},
     "output_type": "display_data"
    },
    {
     "data": {
      "text/plain": [
       "{'hits': 22318,\n",
       " 'total': 49105,\n",
       " 'map100': 0.5015847675564187,\n",
       " 'acc': 0.4544954688931881}"
      ]
     },
     "execution_count": 34,
     "metadata": {},
     "output_type": "execute_result"
    }
   ],
   "source": [
    "trainer.get_test_acc(d, dist, return_metrics=True)"
   ]
  },
  {
   "cell_type": "markdown",
   "metadata": {},
   "source": [
    "___________________________________"
   ]
  },
  {
   "cell_type": "code",
   "execution_count": 26,
   "metadata": {},
   "outputs": [],
   "source": [
    "d = dssm.DSSM_V2(hid_size=512, emb_size=256)\n",
    "dist = ProductDistances([\n",
    "    (51, Distances(\"expanded_hyp\", scalable=True)),\n",
    "    (51, Distances(\"expanded_hyp\", scalable=True)),\n",
    "    (51, Distances(\"expanded_hyp\", scalable=True)),\n",
    "    (51, Distances(\"expanded_hyp\", scalable=True)),\n",
    "    (52, Distances(\"expanded_hyp\", scalable=True)),\n",
    "])"
   ]
  },
  {
   "cell_type": "code",
   "execution_count": 27,
   "metadata": {},
   "outputs": [
    {
     "name": "stderr",
     "output_type": "stream",
     "text": [
      "100%|██████████| 441939/441939 [00:01<00:00, 357023.66it/s]\n",
      "100%|██████████| 441939/441939 [00:00<00:00, 667592.69it/s]\n"
     ]
    }
   ],
   "source": [
    "trainer = dssm.trainer.DssmTrainerWithCustomTokenizerAndHards(model=d, qs=train, hard_every=9999,\n",
    "    tokenizer_cfg={\"total_tokens\":30000, \"triplets_weight\":20, \"pairs_weight\":2, \"words_weight\":8})"
   ]
  },
  {
   "cell_type": "code",
   "execution_count": 28,
   "metadata": {},
   "outputs": [
    {
     "data": {
      "image/png": "[encoded data removed]",
      "text/plain": [
       "<Figure size 1008x504 with 2 Axes>"
      ]
     },
     "metadata": {
      "needs_background": "light"
     },
     "output_type": "display_data"
    },
    {
     "name": "stdout",
     "output_type": "stream",
     "text": [
      "val_acc[-1] = 0.538\n",
      "\n"
     ]
    }
   ],
   "source": [
    "trainer.fit(d, dist, redraw_interval=30, iters=1000)"
   ]
  },
  {
   "cell_type": "code",
   "execution_count": 29,
   "metadata": {},
   "outputs": [],
   "source": [
    "with open(\"dssm-exp-256-H_51(52)^5-2020-04-04.pickle\", \"wb\") as f:\n",
    "    pickle.dump(trainer.best_model_weights, f)"
   ]
  },
  {
   "cell_type": "code",
   "execution_count": 30,
   "metadata": {},
   "outputs": [],
   "source": [
    "for w, b_w in zip(d.get_weights(), trainer.best_model_weights):\n",
    "    w.assign(b_w)"
   ]
  },
  {
   "cell_type": "code",
   "execution_count": 31,
   "metadata": {},
   "outputs": [
    {
     "data": {
      "application/vnd.jupyter.widget-view+json": {
       "model_id": "",
       "version_major": 2,
       "version_minor": 0
      },
      "text/plain": [
       "HBox(children=(IntProgress(value=0, max=1000), HTML(value='')))"
      ]
     },
     "metadata": {},
     "output_type": "display_data"
    },
    {
     "name": "stdout",
     "output_type": "stream",
     "text": [
      "\n"
     ]
    },
    {
     "data": {
      "text/plain": [
       "0.541"
      ]
     },
     "execution_count": 31,
     "metadata": {},
     "output_type": "execute_result"
    }
   ],
   "source": [
    "trainer.get_val_acc(d, dist)"
   ]
  },
  {
   "cell_type": "code",
   "execution_count": 32,
   "metadata": {},
   "outputs": [
    {
     "data": {
      "application/vnd.jupyter.widget-view+json": {
       "model_id": "",
       "version_major": 2,
       "version_minor": 0
      },
      "text/plain": [
       "HBox(children=(IntProgress(value=0, max=49105), HTML(value='')))"
      ]
     },
     "metadata": {},
     "output_type": "display_data"
    },
    {
     "name": "stdout",
     "output_type": "stream",
     "text": [
      "\n"
     ]
    },
    {
     "data": {
      "text/plain": [
       "0.564015884329498"
      ]
     },
     "execution_count": 32,
     "metadata": {},
     "output_type": "execute_result"
    }
   ],
   "source": [
    "trainer.get_test_acc(d, dist)"
   ]
  },
  {
   "cell_type": "code",
   "execution_count": 33,
   "metadata": {},
   "outputs": [
    {
     "data": {
      "text/plain": [
       "[<tf.Variable 'Variable:0' shape=() dtype=float64, numpy=1.8130572848477535>,\n",
       " <tf.Variable 'Variable:0' shape=() dtype=float64, numpy=1.8090709683422102>,\n",
       " <tf.Variable 'Variable:0' shape=() dtype=float64, numpy=1.806992024323885>,\n",
       " <tf.Variable 'Variable:0' shape=() dtype=float64, numpy=1.8053772298826367>,\n",
       " <tf.Variable 'Variable:0' shape=() dtype=float64, numpy=1.8036862132433518>]"
      ]
     },
     "execution_count": 33,
     "metadata": {},
     "output_type": "execute_result"
    }
   ],
   "source": [
    "dist.get_weights()"
   ]
  },
  {
   "cell_type": "code",
   "execution_count": 35,
   "metadata": {},
   "outputs": [
    {
     "data": {
      "text/plain": [
       "<tf.Tensor: id=72990555, shape=(5,), dtype=float64, numpy=array([0.20108599, 0.200286  , 0.19987005, 0.19954756, 0.1992104 ])>"
      ]
     },
     "execution_count": 35,
     "metadata": {},
     "output_type": "execute_result"
    }
   ],
   "source": [
    "tf.nn.softmax(dist.get_weights())"
   ]
  },
  {
   "cell_type": "code",
   "execution_count": 36,
   "metadata": {},
   "outputs": [
    {
     "data": {
      "application/vnd.jupyter.widget-view+json": {
       "model_id": "",
       "version_major": 2,
       "version_minor": 0
      },
      "text/plain": [
       "HBox(children=(IntProgress(value=0, max=1000), HTML(value='')))"
      ]
     },
     "metadata": {},
     "output_type": "display_data"
    },
    {
     "name": "stdout",
     "output_type": "stream",
     "text": [
      "\n"
     ]
    },
    {
     "data": {
      "text/plain": [
       "{'hits': 541, 'total': 1000, 'map100': 0.597690219076182, 'acc': 0.541}"
      ]
     },
     "execution_count": 36,
     "metadata": {},
     "output_type": "execute_result"
    }
   ],
   "source": [
    "trainer.get_val_acc(d, dist, return_metrics=True)"
   ]
  },
  {
   "cell_type": "code",
   "execution_count": 37,
   "metadata": {},
   "outputs": [
    {
     "data": {
      "application/vnd.jupyter.widget-view+json": {
       "model_id": "",
       "version_major": 2,
       "version_minor": 0
      },
      "text/plain": [
       "HBox(children=(IntProgress(value=0, max=49105), HTML(value='')))"
      ]
     },
     "metadata": {},
     "output_type": "display_data"
    },
    {
     "name": "stdout",
     "output_type": "stream",
     "text": [
      "\n"
     ]
    },
    {
     "data": {
      "text/plain": [
       "{'hits': 27696,\n",
       " 'total': 49105,\n",
       " 'map100': 0.6206690971284637,\n",
       " 'acc': 0.564015884329498}"
      ]
     },
     "execution_count": 37,
     "metadata": {},
     "output_type": "execute_result"
    }
   ],
   "source": [
    "trainer.get_test_acc(d, dist, return_metrics=True)"
   ]
  },
  {
   "cell_type": "markdown",
   "metadata": {},
   "source": [
    "___________________________________"
   ]
  },
  {
   "cell_type": "code",
   "execution_count": 35,
   "metadata": {},
   "outputs": [
    {
     "data": {
      "image/png": "[encoded data removed]",
      "text/plain": [
       "<Figure size 1008x504 with 2 Axes>"
      ]
     },
     "metadata": {
      "needs_background": "light"
     },
     "output_type": "display_data"
    },
    {
     "name": "stdout",
     "output_type": "stream",
     "text": [
      "val_acc[-1] = 0.589\n"
     ]
    }
   ],
   "source": [
    "dist = ProductDistances([\n",
    "    (256, Distances(\"triple_trainable_l0_corrected\", scalable=True)),\n",
    "])\n",
    "d, trainer = do_stuff(dist, \"ttl0_256\")"
   ]
  },
  {
   "cell_type": "code",
   "execution_count": 36,
   "metadata": {},
   "outputs": [
    {
     "data": {
      "application/vnd.jupyter.widget-view+json": {
       "model_id": "526a2ffcf24640b4a74f15492af71b15",
       "version_major": 2,
       "version_minor": 0
      },
      "text/plain": [
       "HBox(children=(IntProgress(value=0, max=1000), HTML(value='')))"
      ]
     },
     "metadata": {},
     "output_type": "display_data"
    },
    {
     "data": {
      "text/plain": [
       "{'hits': 603, 'total': 1000, 'map100': 0.6646287757732009, 'acc': 0.603}"
      ]
     },
     "execution_count": 36,
     "metadata": {},
     "output_type": "execute_result"
    }
   ],
   "source": [
    "trainer.get_val_acc(d, dist, return_metrics=True)"
   ]
  },
  {
   "cell_type": "code",
   "execution_count": 37,
   "metadata": {},
   "outputs": [
    {
     "data": {
      "application/vnd.jupyter.widget-view+json": {
       "model_id": "5807c13cb6654eadbb46efabab9f2c15",
       "version_major": 2,
       "version_minor": 0
      },
      "text/plain": [
       "HBox(children=(IntProgress(value=0, max=49105), HTML(value='')))"
      ]
     },
     "metadata": {},
     "output_type": "display_data"
    },
    {
     "data": {
      "text/plain": [
       "{'hits': 30040,\n",
       " 'total': 49105,\n",
       " 'map100': 0.6771221432011832,\n",
       " 'acc': 0.6117503309235313}"
      ]
     },
     "execution_count": 37,
     "metadata": {},
     "output_type": "execute_result"
    }
   ],
   "source": [
    "trainer.get_test_acc(d, dist, return_metrics=True)"
   ]
  },
  {
   "cell_type": "markdown",
   "metadata": {},
   "source": [
    "___________________________________"
   ]
  },
  {
   "cell_type": "code",
   "execution_count": 41,
   "metadata": {},
   "outputs": [],
   "source": [
    "d = dssm.DSSM_V2(hid_size=512, emb_size=256)\n",
    "dist = ProductDistances([\n",
    "    (51, Distances(\"spherical\", scalable=True)),\n",
    "    (51, Distances(\"spherical\", scalable=True)),\n",
    "    (51, Distances(\"spherical\", scalable=True)),\n",
    "    (51, Distances(\"spherical\", scalable=True)),\n",
    "    (52, Distances(\"spherical\", scalable=True)),\n",
    "])"
   ]
  },
  {
   "cell_type": "code",
   "execution_count": 42,
   "metadata": {},
   "outputs": [
    {
     "name": "stderr",
     "output_type": "stream",
     "text": [
      "100%|██████████| 441939/441939 [00:01<00:00, 363340.55it/s]\n",
      "100%|██████████| 441939/441939 [00:00<00:00, 654068.84it/s]\n"
     ]
    }
   ],
   "source": [
    "trainer = dssm.trainer.DssmTrainerWithCustomTokenizerAndHards(model=d, qs=train, hard_every=9999,\n",
    "    tokenizer_cfg={\"total_tokens\":30000, \"triplets_weight\":20, \"pairs_weight\":2, \"words_weight\":8})"
   ]
  },
  {
   "cell_type": "code",
   "execution_count": 43,
   "metadata": {},
   "outputs": [
    {
     "data": {
      "image/png": "[encoded data removed]",
      "text/plain": [
       "<Figure size 1008x504 with 2 Axes>"
      ]
     },
     "metadata": {
      "needs_background": "light"
     },
     "output_type": "display_data"
    },
    {
     "name": "stdout",
     "output_type": "stream",
     "text": [
      "val_acc[-1] = 0.631\n"
     ]
    }
   ],
   "source": [
    "trainer.fit(d, dist, redraw_interval=30, iters=1000)"
   ]
  },
  {
   "cell_type": "code",
   "execution_count": 44,
   "metadata": {},
   "outputs": [],
   "source": [
    "with open(\"dssm-exp-256-S_51(52)^5-2020-04-04.pickle\", \"wb\") as f:\n",
    "    pickle.dump(trainer.best_model_weights, f)"
   ]
  },
  {
   "cell_type": "code",
   "execution_count": 45,
   "metadata": {},
   "outputs": [],
   "source": [
    "for w, b_w in zip(d.get_weights(), trainer.best_model_weights):\n",
    "    w.assign(b_w)"
   ]
  },
  {
   "cell_type": "code",
   "execution_count": 46,
   "metadata": {},
   "outputs": [
    {
     "data": {
      "application/vnd.jupyter.widget-view+json": {
       "model_id": "d63f292073c346cf98634fc875b473fa",
       "version_major": 2,
       "version_minor": 0
      },
      "text/plain": [
       "HBox(children=(IntProgress(value=0, max=1000), HTML(value='')))"
      ]
     },
     "metadata": {},
     "output_type": "display_data"
    },
    {
     "data": {
      "text/plain": [
       "{'hits': 637, 'total': 1000, 'map100': 0.6861042595565414, 'acc': 0.637}"
      ]
     },
     "execution_count": 46,
     "metadata": {},
     "output_type": "execute_result"
    }
   ],
   "source": [
    "trainer.get_val_acc(d, dist, return_metrics=True)"
   ]
  },
  {
   "cell_type": "code",
   "execution_count": 47,
   "metadata": {},
   "outputs": [
    {
     "data": {
      "application/vnd.jupyter.widget-view+json": {
       "model_id": "a343fe7497bf4c848202caa00a5eb0c1",
       "version_major": 2,
       "version_minor": 0
      },
      "text/plain": [
       "HBox(children=(IntProgress(value=0, max=49105), HTML(value='')))"
      ]
     },
     "metadata": {},
     "output_type": "display_data"
    },
    {
     "data": {
      "text/plain": [
       "{'hits': 31733,\n",
       " 'total': 49105,\n",
       " 'map100': 0.7012605483194304,\n",
       " 'acc': 0.6462274717442216}"
      ]
     },
     "execution_count": 47,
     "metadata": {},
     "output_type": "execute_result"
    }
   ],
   "source": [
    "trainer.get_test_acc(d, dist, return_metrics=True)"
   ]
  },
  {
   "cell_type": "code",
   "execution_count": 48,
   "metadata": {},
   "outputs": [
    {
     "data": {
      "text/plain": [
       "[<tf.Variable 'Variable:0' shape=() dtype=float64, numpy=2.037892487355593>,\n",
       " <tf.Variable 'Variable:0' shape=() dtype=float64, numpy=2.043603941186293>,\n",
       " <tf.Variable 'Variable:0' shape=() dtype=float64, numpy=2.035431219544088>,\n",
       " <tf.Variable 'Variable:0' shape=() dtype=float64, numpy=2.0377391077659146>,\n",
       " <tf.Variable 'Variable:0' shape=() dtype=float64, numpy=2.040120878389829>]"
      ]
     },
     "execution_count": 48,
     "metadata": {},
     "output_type": "execute_result"
    }
   ],
   "source": [
    "dist.get_weights()"
   ]
  },
  {
   "cell_type": "code",
   "execution_count": 49,
   "metadata": {},
   "outputs": [
    {
     "data": {
      "text/plain": [
       "<tf.Tensor: id=122304120, shape=(5,), dtype=float64, numpy=array([0.19978635, 0.20093068, 0.19929522, 0.19975571, 0.20023204])>"
      ]
     },
     "execution_count": 49,
     "metadata": {},
     "output_type": "execute_result"
    }
   ],
   "source": [
    "tf.nn.softmax(dist.get_weights())"
   ]
  },
  {
   "cell_type": "markdown",
   "metadata": {},
   "source": [
    "_____________________________"
   ]
  },
  {
   "cell_type": "code",
   "execution_count": 38,
   "metadata": {},
   "outputs": [
    {
     "data": {
      "image/png": "[encoded data removed]",
      "text/plain": [
       "<Figure size 1008x504 with 2 Axes>"
      ]
     },
     "metadata": {
      "needs_background": "light"
     },
     "output_type": "display_data"
    },
    {
     "name": "stdout",
     "output_type": "stream",
     "text": [
      "val_acc[-1] = 0.609\n"
     ]
    }
   ],
   "source": [
    "dist = ProductDistances([\n",
    "    (51, Distances(\"expanded_hyp\", scalable=True, dtype=d.dense_in_1.dtype)),\n",
    "    (51, Distances(\"expanded_hyp\", scalable=True, dtype=d.dense_in_1.dtype)),\n",
    "    (51, Distances(\"spherical\", scalable=True, dtype=d.dense_in_1.dtype)),\n",
    "    (51, Distances(\"spherical\", scalable=True, dtype=d.dense_in_1.dtype)),\n",
    "    (52, Distances(\"euclidian\", scalable=True, dtype=d.dense_in_1.dtype)),\n",
    "])\n",
    "d, trainer = do_stuff(dist, \"E52xS51xS51xH51xH51\")"
   ]
  },
  {
   "cell_type": "code",
   "execution_count": 39,
   "metadata": {},
   "outputs": [
    {
     "data": {
      "application/vnd.jupyter.widget-view+json": {
       "model_id": "c37e136b8a9044358e8728ebd78a12bb",
       "version_major": 2,
       "version_minor": 0
      },
      "text/plain": [
       "HBox(children=(IntProgress(value=0, max=1000), HTML(value='')))"
      ]
     },
     "metadata": {},
     "output_type": "display_data"
    },
    {
     "data": {
      "text/plain": [
       "{'hits': 609, 'total': 1000, 'map100': 0.6730492587086546, 'acc': 0.609}"
      ]
     },
     "execution_count": 39,
     "metadata": {},
     "output_type": "execute_result"
    }
   ],
   "source": [
    "trainer.get_val_acc(d, dist, return_metrics=True)"
   ]
  },
  {
   "cell_type": "code",
   "execution_count": 40,
   "metadata": {},
   "outputs": [
    {
     "data": {
      "application/vnd.jupyter.widget-view+json": {
       "model_id": "3e1c6b21a5e744f3a30d0e83bf384021",
       "version_major": 2,
       "version_minor": 0
      },
      "text/plain": [
       "HBox(children=(IntProgress(value=0, max=49105), HTML(value='')))"
      ]
     },
     "metadata": {},
     "output_type": "display_data"
    },
    {
     "data": {
      "text/plain": [
       "{'hits': 30487,\n",
       " 'total': 49105,\n",
       " 'map100': 0.684063356840696,\n",
       " 'acc': 0.6208532735973934}"
      ]
     },
     "execution_count": 40,
     "metadata": {},
     "output_type": "execute_result"
    }
   ],
   "source": [
    "trainer.get_test_acc(d, dist, return_metrics=True)"
   ]
  },
  {
   "cell_type": "markdown",
   "metadata": {},
   "source": [
    "________________________"
   ]
  },
  {
   "cell_type": "code",
   "execution_count": null,
   "metadata": {},
   "outputs": [],
   "source": []
  }
 ],
 "metadata": {
  "kernelspec": {
   "display_name": "Python 3",
   "language": "python",
   "name": "python3"
  },
  "language_info": {
   "codemirror_mode": {
    "name": "ipython",
    "version": 3
   },
   "file_extension": ".py",
   "mimetype": "text/x-python",
   "name": "python",
   "nbconvert_exporter": "python",
   "pygments_lexer": "ipython3",
   "version": "3.7.3"
  }
 },
 "nbformat": 4,
 "nbformat_minor": 2
}
